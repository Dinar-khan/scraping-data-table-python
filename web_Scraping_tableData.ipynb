{
 "cells": [
  {
   "cell_type": "markdown",
   "id": "b0fece46",
   "metadata": {},
   "source": [
    "# Web Scraping"
   ]
  },
  {
   "cell_type": "markdown",
   "id": "b561a790",
   "metadata": {},
   "source": [
    "## imports"
   ]
  },
  {
   "cell_type": "code",
   "execution_count": 52,
   "id": "d3fb0955",
   "metadata": {},
   "outputs": [],
   "source": [
    "import pandas as pd\n",
    "from bs4 import BeautifulSoup\n",
    "import requests"
   ]
  },
  {
   "cell_type": "markdown",
   "id": "41bdcf93",
   "metadata": {},
   "source": [
    "## HTTP request"
   ]
  },
  {
   "cell_type": "markdown",
   "id": "3a246d22",
   "metadata": {},
   "source": [
    "### store website in variable"
   ]
  },
  {
   "cell_type": "code",
   "execution_count": 53,
   "id": "58760fa1",
   "metadata": {},
   "outputs": [],
   "source": [
    "website= 'https://www.bloodyelbow.com/22198483/comprehensive-list-of-ufc-fighters-who-have-tested-positive-for-covid-19'"
   ]
  },
  {
   "cell_type": "code",
   "execution_count": 54,
   "id": "43003cfa",
   "metadata": {},
   "outputs": [],
   "source": [
    "response = requests.get(website)"
   ]
  },
  {
   "cell_type": "markdown",
   "id": "4d285906",
   "metadata": {},
   "source": [
    "## status code"
   ]
  },
  {
   "cell_type": "code",
   "execution_count": 56,
   "id": "84e795ad",
   "metadata": {},
   "outputs": [
    {
     "data": {
      "text/plain": [
       "<Response [200]>"
      ]
     },
     "execution_count": 56,
     "metadata": {},
     "output_type": "execute_result"
    }
   ],
   "source": [
    "response"
   ]
  },
  {
   "cell_type": "markdown",
   "id": "8e44874a",
   "metadata": {},
   "source": [
    "## soup object"
   ]
  },
  {
   "cell_type": "code",
   "execution_count": 57,
   "id": "6f39728d",
   "metadata": {},
   "outputs": [],
   "source": [
    "soup = BeautifulSoup(response.content,'html.parser')"
   ]
  },
  {
   "cell_type": "code",
   "execution_count": null,
   "id": "707cb705",
   "metadata": {},
   "outputs": [],
   "source": [
    "soup"
   ]
  },
  {
   "cell_type": "markdown",
   "id": "b47cdb2e",
   "metadata": {},
   "source": [
    "## results"
   ]
  },
  {
   "cell_type": "code",
   "execution_count": 17,
   "id": "feff3663",
   "metadata": {},
   "outputs": [],
   "source": [
    "#starting point\n",
    "results = soup.find('table',{'class':'p-data-table'}).find(\"tbody\").find_all('tr')"
   ]
  },
  {
   "cell_type": "code",
   "execution_count": 18,
   "id": "a90c0ad6",
   "metadata": {},
   "outputs": [
    {
     "data": {
      "text/plain": [
       "86"
      ]
     },
     "execution_count": 18,
     "metadata": {},
     "output_type": "execute_result"
    }
   ],
   "source": [
    "len(results)"
   ]
  },
  {
   "cell_type": "markdown",
   "id": "30509f9d",
   "metadata": {},
   "source": [
    "## find your data"
   ]
  },
  {
   "cell_type": "code",
   "execution_count": 23,
   "id": "fd7b8a83",
   "metadata": {},
   "outputs": [
    {
     "data": {
      "text/plain": [
       "<tr>\n",
       "<td>Marlon Moraes</td>\n",
       "<td>2/22/2022</td>\n",
       "<td>UFC Fight NIght 203</td>\n",
       "<td>3/12/2022</td>\n",
       "<td>Song Yadong</td>\n",
       "<td>Fight not changed</td>\n",
       "<td></td>\n",
       "<td></td>\n",
       "</tr>"
      ]
     },
     "execution_count": 23,
     "metadata": {},
     "output_type": "execute_result"
    }
   ],
   "source": [
    "results[0]"
   ]
  },
  {
   "cell_type": "code",
   "execution_count": 25,
   "id": "20a1b9c0",
   "metadata": {},
   "outputs": [
    {
     "data": {
      "text/plain": [
       "'Marlon Moraes'"
      ]
     },
     "execution_count": 25,
     "metadata": {},
     "output_type": "execute_result"
    }
   ],
   "source": [
    "#name\n",
    "results[0].find_all('td')[0].get_text()"
   ]
  },
  {
   "cell_type": "code",
   "execution_count": 26,
   "id": "b58089ae",
   "metadata": {},
   "outputs": [
    {
     "data": {
      "text/plain": [
       "'2/22/2022'"
      ]
     },
     "execution_count": 26,
     "metadata": {},
     "output_type": "execute_result"
    }
   ],
   "source": [
    "#Reported\n",
    "results[0].find_all('td')[1].get_text()"
   ]
  },
  {
   "cell_type": "code",
   "execution_count": 27,
   "id": "024e1f86",
   "metadata": {},
   "outputs": [
    {
     "data": {
      "text/plain": [
       "'UFC Fight NIght 203'"
      ]
     },
     "execution_count": 27,
     "metadata": {},
     "output_type": "execute_result"
    }
   ],
   "source": [
    "# Card\n",
    "results[0].find_all('td')[2].get_text()"
   ]
  },
  {
   "cell_type": "code",
   "execution_count": 28,
   "id": "be96df46",
   "metadata": {},
   "outputs": [
    {
     "data": {
      "text/plain": [
       "'3/12/2022'"
      ]
     },
     "execution_count": 28,
     "metadata": {},
     "output_type": "execute_result"
    }
   ],
   "source": [
    "# Card date\n",
    "results[0].find_all('td')[3].get_text()"
   ]
  },
  {
   "cell_type": "code",
   "execution_count": 29,
   "id": "80d3a807",
   "metadata": {},
   "outputs": [
    {
     "data": {
      "text/plain": [
       "'Song Yadong'"
      ]
     },
     "execution_count": 29,
     "metadata": {},
     "output_type": "execute_result"
    }
   ],
   "source": [
    "# OPonent\n",
    "results[0].find_all('td')[4].get_text()"
   ]
  },
  {
   "cell_type": "code",
   "execution_count": 30,
   "id": "7aa91367",
   "metadata": {},
   "outputs": [
    {
     "data": {
      "text/plain": [
       "'Fight not changed'"
      ]
     },
     "execution_count": 30,
     "metadata": {},
     "output_type": "execute_result"
    }
   ],
   "source": [
    "#resolution\n",
    "results[0].find_all('td')[5].get_text()"
   ]
  },
  {
   "cell_type": "code",
   "execution_count": 43,
   "id": "e597d624",
   "metadata": {},
   "outputs": [
    {
     "data": {
      "text/plain": [
       "''"
      ]
     },
     "execution_count": 43,
     "metadata": {},
     "output_type": "execute_result"
    }
   ],
   "source": [
    "#Next appearence\n",
    "results[0].find_all('td')[6].get_text()"
   ]
  },
  {
   "cell_type": "markdown",
   "id": "0636f79a",
   "metadata": {},
   "source": [
    "## put everything together- for loop"
   ]
  },
  {
   "cell_type": "code",
   "execution_count": 45,
   "id": "53a913bc",
   "metadata": {},
   "outputs": [],
   "source": [
    "name =[]\n",
    "reported_date = []\n",
    "card = []\n",
    "card_date = []\n",
    "oponent = []\n",
    "resolution = []\n",
    "next_apperance = []\n",
    "\n",
    "for i in results:\n",
    "    #name\n",
    "    name.append(i.find_all('td')[0].get_text())\n",
    "    #reported\n",
    "    reported_date.append(i.find_all('td')[1].get_text())\n",
    "    #card\n",
    "    card.append(i.find_all('td')[2].get_text())\n",
    "    #card_date\n",
    "    card_date.append(i.find_all('td')[3].get_text())\n",
    "    #oponent\n",
    "    oponent.append(i.find_all('td')[4].get_text())\n",
    "    #resolution\n",
    "    resolution.append(i.find_all('td')[5].get_text())\n",
    "    #nextAppenrance\n",
    "    next_apperance.append(i.find_all('td')[6].get_text())\n",
    "    \n"
   ]
  },
  {
   "cell_type": "markdown",
   "id": "8b5a2238",
   "metadata": {},
   "source": [
    "## Pandas DAtaFrame"
   ]
  },
  {
   "cell_type": "code",
   "execution_count": 48,
   "id": "06e264c8",
   "metadata": {},
   "outputs": [],
   "source": [
    "ufc_df = pd.DataFrame({'Name':name,\"Reported\":reported_date,'Card':card,'Card date':card_date,'oponent':oponent,'Resolution':resolution,'Next apperance':next_apperance})"
   ]
  },
  {
   "cell_type": "code",
   "execution_count": 49,
   "id": "0f996534",
   "metadata": {},
   "outputs": [
    {
     "data": {
      "text/html": [
       "<div>\n",
       "<style scoped>\n",
       "    .dataframe tbody tr th:only-of-type {\n",
       "        vertical-align: middle;\n",
       "    }\n",
       "\n",
       "    .dataframe tbody tr th {\n",
       "        vertical-align: top;\n",
       "    }\n",
       "\n",
       "    .dataframe thead th {\n",
       "        text-align: right;\n",
       "    }\n",
       "</style>\n",
       "<table border=\"1\" class=\"dataframe\">\n",
       "  <thead>\n",
       "    <tr style=\"text-align: right;\">\n",
       "      <th></th>\n",
       "      <th>Name</th>\n",
       "      <th>Reported</th>\n",
       "      <th>Card</th>\n",
       "      <th>Card date</th>\n",
       "      <th>oponent</th>\n",
       "      <th>Resolution</th>\n",
       "      <th>Next apperance</th>\n",
       "    </tr>\n",
       "  </thead>\n",
       "  <tbody>\n",
       "    <tr>\n",
       "      <th>0</th>\n",
       "      <td>Marlon Moraes</td>\n",
       "      <td>2/22/2022</td>\n",
       "      <td>UFC Fight NIght 203</td>\n",
       "      <td>3/12/2022</td>\n",
       "      <td>Song Yadong</td>\n",
       "      <td>Fight not changed</td>\n",
       "      <td></td>\n",
       "    </tr>\n",
       "    <tr>\n",
       "      <th>1</th>\n",
       "      <td>Abdul Razak Alhassan</td>\n",
       "      <td>2/21/2022</td>\n",
       "      <td>UFC Vegas 48</td>\n",
       "      <td>2/19/2022</td>\n",
       "      <td>Joauin Buckley</td>\n",
       "      <td>Figh not changed</td>\n",
       "      <td></td>\n",
       "    </tr>\n",
       "    <tr>\n",
       "      <th>2</th>\n",
       "      <td>Poliana Botelho</td>\n",
       "      <td>1/19/2022</td>\n",
       "      <td>UFC 270</td>\n",
       "      <td>1/22/2022</td>\n",
       "      <td>Ji Yeon Kim</td>\n",
       "      <td>Fight scrapped</td>\n",
       "      <td>NA</td>\n",
       "    </tr>\n",
       "    <tr>\n",
       "      <th>3</th>\n",
       "      <td>Johnny Walker</td>\n",
       "      <td>1/2/22</td>\n",
       "      <td>UFC Fight Night 202</td>\n",
       "      <td>2/19/2022</td>\n",
       "      <td>Jamahal Hill</td>\n",
       "      <td>Fight not changed</td>\n",
       "      <td></td>\n",
       "    </tr>\n",
       "    <tr>\n",
       "      <th>4</th>\n",
       "      <td>Matt Brown</td>\n",
       "      <td>11/23/21</td>\n",
       "      <td>UFC Vegas 44</td>\n",
       "      <td>12/4/2021</td>\n",
       "      <td>Bryan Barberena</td>\n",
       "      <td>Replaced by Darian Weeks</td>\n",
       "      <td>NA</td>\n",
       "    </tr>\n",
       "    <tr>\n",
       "      <th>...</th>\n",
       "      <td>...</td>\n",
       "      <td>...</td>\n",
       "      <td>...</td>\n",
       "      <td>...</td>\n",
       "      <td>...</td>\n",
       "      <td>...</td>\n",
       "      <td>...</td>\n",
       "    </tr>\n",
       "    <tr>\n",
       "      <th>81</th>\n",
       "      <td>Pedro Munhoz</td>\n",
       "      <td>7/6/2020</td>\n",
       "      <td>UFC Fight Island 1</td>\n",
       "      <td>7/16/2020</td>\n",
       "      <td>Frankie Edgar</td>\n",
       "      <td>Fight scratched - rebooked for UFC Vegas 7 - E...</td>\n",
       "      <td>UFC Vegas 7</td>\n",
       "    </tr>\n",
       "    <tr>\n",
       "      <th>82</th>\n",
       "      <td>Alexander Romanov</td>\n",
       "      <td>7/9/2020</td>\n",
       "      <td>UFC 251</td>\n",
       "      <td>7/11/2020</td>\n",
       "      <td>Marcin Tybura</td>\n",
       "      <td>Fight scratched - Tybura faced Maxim Grishin -...</td>\n",
       "      <td>UFC Vegas 13</td>\n",
       "    </tr>\n",
       "    <tr>\n",
       "      <th>83</th>\n",
       "      <td>Gilbert Burns</td>\n",
       "      <td>7/3/2020</td>\n",
       "      <td>UFC 251</td>\n",
       "      <td>7/11/2020</td>\n",
       "      <td>Kamaru Usman</td>\n",
       "      <td>Fight scratched - Usman faced Jorge Masvidal -...</td>\n",
       "      <td>Booked UFC 258</td>\n",
       "    </tr>\n",
       "    <tr>\n",
       "      <th>84</th>\n",
       "      <td>Ronaldo Souza</td>\n",
       "      <td>5/8/2020</td>\n",
       "      <td>UFC 249</td>\n",
       "      <td>5/9/2020</td>\n",
       "      <td>Uriah Hall</td>\n",
       "      <td>Fight scratched- not rescheduled</td>\n",
       "      <td>UFC 256</td>\n",
       "    </tr>\n",
       "    <tr>\n",
       "      <th>85</th>\n",
       "      <td>Lyman Good</td>\n",
       "      <td>4/4/2020</td>\n",
       "      <td>UFC 249</td>\n",
       "      <td>5/9/2020</td>\n",
       "      <td>Belal Muhammad</td>\n",
       "      <td>Fight scratched - rescheduled for UFC Vegas 3 ...</td>\n",
       "      <td>UFC Vegas 3</td>\n",
       "    </tr>\n",
       "  </tbody>\n",
       "</table>\n",
       "<p>86 rows × 7 columns</p>\n",
       "</div>"
      ],
      "text/plain": [
       "                    Name   Reported                 Card  Card date  \\\n",
       "0          Marlon Moraes  2/22/2022  UFC Fight NIght 203  3/12/2022   \n",
       "1   Abdul Razak Alhassan  2/21/2022         UFC Vegas 48  2/19/2022   \n",
       "2        Poliana Botelho  1/19/2022              UFC 270  1/22/2022   \n",
       "3          Johnny Walker     1/2/22  UFC Fight Night 202  2/19/2022   \n",
       "4             Matt Brown   11/23/21         UFC Vegas 44  12/4/2021   \n",
       "..                   ...        ...                  ...        ...   \n",
       "81          Pedro Munhoz   7/6/2020   UFC Fight Island 1  7/16/2020   \n",
       "82     Alexander Romanov   7/9/2020              UFC 251  7/11/2020   \n",
       "83         Gilbert Burns   7/3/2020              UFC 251  7/11/2020   \n",
       "84         Ronaldo Souza   5/8/2020              UFC 249   5/9/2020   \n",
       "85            Lyman Good   4/4/2020              UFC 249   5/9/2020   \n",
       "\n",
       "            oponent                                         Resolution  \\\n",
       "0       Song Yadong                                  Fight not changed   \n",
       "1   Joauin Buckley                                    Figh not changed   \n",
       "2       Ji Yeon Kim                                     Fight scrapped   \n",
       "3      Jamahal Hill                                  Fight not changed   \n",
       "4   Bryan Barberena                           Replaced by Darian Weeks   \n",
       "..              ...                                                ...   \n",
       "81    Frankie Edgar  Fight scratched - rebooked for UFC Vegas 7 - E...   \n",
       "82    Marcin Tybura  Fight scratched - Tybura faced Maxim Grishin -...   \n",
       "83     Kamaru Usman  Fight scratched - Usman faced Jorge Masvidal -...   \n",
       "84       Uriah Hall                   Fight scratched- not rescheduled   \n",
       "85   Belal Muhammad  Fight scratched - rescheduled for UFC Vegas 3 ...   \n",
       "\n",
       "     Next apperance  \n",
       "0                    \n",
       "1                    \n",
       "2                NA  \n",
       "3                    \n",
       "4                NA  \n",
       "..              ...  \n",
       "81     UFC Vegas 7   \n",
       "82     UFC Vegas 13  \n",
       "83  Booked UFC 258   \n",
       "84          UFC 256  \n",
       "85      UFC Vegas 3  \n",
       "\n",
       "[86 rows x 7 columns]"
      ]
     },
     "execution_count": 49,
     "metadata": {},
     "output_type": "execute_result"
    }
   ],
   "source": [
    "ufc_df"
   ]
  },
  {
   "cell_type": "code",
   "execution_count": 51,
   "id": "4a316280",
   "metadata": {},
   "outputs": [],
   "source": [
    "ufc_df.to_excel('ufc_table_data.xlsx',index=False)"
   ]
  }
 ],
 "metadata": {
  "kernelspec": {
   "display_name": "Python 3 (ipykernel)",
   "language": "python",
   "name": "python3"
  },
  "language_info": {
   "codemirror_mode": {
    "name": "ipython",
    "version": 3
   },
   "file_extension": ".py",
   "mimetype": "text/x-python",
   "name": "python",
   "nbconvert_exporter": "python",
   "pygments_lexer": "ipython3",
   "version": "3.9.7"
  }
 },
 "nbformat": 4,
 "nbformat_minor": 5
}
